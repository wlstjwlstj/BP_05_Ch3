{
  "nbformat": 4,
  "nbformat_minor": 0,
  "metadata": {
    "colab": {
      "provenance": [],
      "authorship_tag": "ABX9TyMJPwjTC9Oq3qm3q2sB8YA+",
      "include_colab_link": true
    },
    "kernelspec": {
      "name": "python3",
      "display_name": "Python 3"
    },
    "language_info": {
      "name": "python"
    }
  },
  "cells": [
    {
      "cell_type": "markdown",
      "metadata": {
        "id": "view-in-github",
        "colab_type": "text"
      },
      "source": [
        "<a href=\"https://colab.research.google.com/github/wlstjwlstj/BP_05_Ch3/blob/main/BP_05_Ch3.ipynb\" target=\"_parent\"><img src=\"https://colab.research.google.com/assets/colab-badge.svg\" alt=\"Open In Colab\"/></a>"
      ]
    },
    {
      "cell_type": "markdown",
      "source": [
        "1. 사용자로부터 두 개의 정수를 받아서 정수의 합, 정수의 차, 정수의 곱, 정수의 평균, 큰 수, 작은 수를 계산하여 화면에 출력하는 프로그램을 작성하라. 파이썬이 제공하는 내장 함수 max(x,y), min(x,y)을 사용해보자."
      ],
      "metadata": {
        "id": "smSwzW-bTltY"
      }
    },
    {
      "cell_type": "code",
      "source": [
        "x=int(input(\"x:\"))  #사용자로부터 정수를 입력받음\n",
        "y=int(input(\"y:\"))  #사용자로부터 정수를 입력받음\n",
        "\n",
        "print(\"두 수의 합:\", x+y)  #두 수의 합 구함\n",
        "print(\"두 수의 차:\", x-y)  #두 수의 차 구함\n",
        "print(\"두 수의 곱:\", x*y)  #두 수의 곱 구함\n",
        "print(\"두 수의 평균:\", (x+y)/2) #두수를 더하고 2로 나누어 평균을 구함\n",
        "print(\"큰 수:\", max(x,y))  #함수를 이용하여 큰 수 구함\n",
        "print(\"작은 수:\", min(x,y))  #함수를 이용하여 작은 수 구함"
      ],
      "metadata": {
        "id": "JRUsvyHHUJx4",
        "colab": {
          "base_uri": "https://localhost:8080/"
        },
        "outputId": "e45472b8-f534-43b7-f47e-0e6161d0736a"
      },
      "execution_count": null,
      "outputs": [
        {
          "output_type": "stream",
          "name": "stdout",
          "text": [
            "x:10\n",
            "y:20\n",
            "두 수의 합: 30\n",
            "두 수의 차: -10\n",
            "두 수의 곱: 200\n",
            "두 수의 평균: 15.0\n",
            "큰 수: 20\n",
            "작은 수: 10\n"
          ]
        }
      ]
    },
    {
      "cell_type": "markdown",
      "source": [
        "2. 원기둥의 부피를 계산하는 프로그램을 작성해보자. 원기둥의 부피는 다음과 같이 계산한다."
      ],
      "metadata": {
        "id": "q7etwJpSVveR"
      }
    },
    {
      "cell_type": "code",
      "source": [
        "r=int(input(\"r:\"))  #사용자로부터 반지름값 입력받음\n",
        "h=int(input(\"h:\"))  #사용자로부터 높이 입력받음\n",
        "v=3.141592*r**2*h  #원주율*반지름*반지름*높이하여 부피 구함\n",
        "print(\"원기둥의 부피:\", v)"
      ],
      "metadata": {
        "colab": {
          "base_uri": "https://localhost:8080/"
        },
        "id": "o6mDi9VZV3Z_",
        "outputId": "cb5fe8af-2e20-4125-9405-60e7569323ae"
      },
      "execution_count": null,
      "outputs": [
        {
          "output_type": "stream",
          "name": "stdout",
          "text": [
            "r:10\n",
            "h:100\n",
            "원기둥의 부피: 31415.92\n"
          ]
        }
      ]
    },
    {
      "cell_type": "markdown",
      "source": [
        "3. 사용자로부터 정수를 받아서 정수의 자리수의 합을 계산하는 프로그램을 작성하여 보자. 예를 들어서 사용자가 1234를 입력하였다면 1+2+3+4를 계산하면 된다. 나머지 연산자와 정수 나눗셈 연산자 //를 적극적으로 사용해보자."
      ],
      "metadata": {
        "id": "3K0FPfeAWZ9K"
      }
    },
    {
      "cell_type": "code",
      "source": [
        "n=int(input(\"네 자리 정수를 입력하시오: \"))\n",
        "a=n%10  #나머지 연산자 이용하여 일의자리수 구함\n",
        "n=n//10  #나눗셈 연산하여 자리수 줄음\n",
        "b=n%10  #나머지 연산자 이용하여 십의자리수 구함\n",
        "n=n//10  #나눗셈 연산하여 자리수 줄음\n",
        "c=n%10  #나머지 연산자 이용하여 백의자리수 구함\n",
        "d=n//10  #천의 자리수 구함\n",
        "print(\"네자리수의 합:\", a+b+c+d)"
      ],
      "metadata": {
        "colab": {
          "base_uri": "https://localhost:8080/"
        },
        "id": "YfFXlfGtWsdD",
        "outputId": "c54c959f-4e36-44a0-8a7f-698fed442348"
      },
      "execution_count": 13,
      "outputs": [
        {
          "output_type": "stream",
          "name": "stdout",
          "text": [
            "네 자리 정수를 입력하시오: 1234\n",
            "네자리수의 합: 10\n"
          ]
        }
      ]
    },
    {
      "cell_type": "markdown",
      "source": [
        "4. 사용자로부터 두 점의 좌표 (x1,y1)과 (x2,y2)를 입력받아서 두 점 사이의 거리를 계산하는 프로그램을 작성해보자. 스크립트 모드로 작성하라. 거리는 다음 식으로 계산한다."
      ],
      "metadata": {
        "id": "Bhrub0gxXdYR"
      }
    },
    {
      "cell_type": "code",
      "source": [
        "x1=int(input(\"x1:\"))  #사용자로부터 x1값 입력받음\n",
        "y1=int(input(\"y1:\"))  #사용자로부터 y1값 입력받음\n",
        "x2=int(input(\"x2:\"))  #사용자로부터 x2값 입력받음\n",
        "y2=int(input(\"y2:\"))  #사용자로부터 y2값 입력받음\n",
        "distance=((x1-x2)**2+(y1-y2)**2)**0.5  #0.5제곱하여 제곱근 구함\n",
        "print(\"두 점 사이의 거리=\", distance)"
      ],
      "metadata": {
        "colab": {
          "base_uri": "https://localhost:8080/"
        },
        "id": "pYpcQCN0ZRXo",
        "outputId": "f17e1874-ef42-4752-a14b-35660b36daf7"
      },
      "execution_count": null,
      "outputs": [
        {
          "output_type": "stream",
          "name": "stdout",
          "text": [
            "x1:0\n",
            "y1:0\n",
            "x2:100\n",
            "y2:100\n",
            "두 점 사이의 거리= 141.4213562373095\n"
          ]
        }
      ]
    },
    {
      "cell_type": "markdown",
      "source": [
        "5. 1번 문제에서 계산한 거리가 맞는지, 터틀 그래픽으로 확인해보자. 거북이를 왼쪽으로 45도 회전하여 141만큼 전진시킨다. 다시 거북이를 (0,0)으로 이동하고 0도를 가리키게 한 후에 100만큼 전진하고 왼쪽으로 90도 회전하여 100만큼 전진한다.화면에 그려진 직선이 일치하는가?"
      ],
      "metadata": {
        "id": "NLAQYJ1qZVBf"
      }
    },
    {
      "cell_type": "code",
      "source": [
        "import turtle\n",
        "\n",
        "t=turtle.Turtle()\n",
        "t.shape(\"turtle\")\n",
        "t.setheading(45)  #왼쪽으로 45도 회전\n",
        "t.fd(141)  #141만큼 전진\n",
        "t.up()\n",
        "t.goto(0,0)  #다시 (0,0)으로 이동\n",
        "t.down()\n",
        "t.setheading(0)  #0도를 가리키게 함\n",
        "t.fd(100)  #100만큼 전진\n",
        "t.lt(90)  #왼쪽으로 90도 회전\n",
        "t.fd(100)  #100만큼 전진\n"
      ],
      "metadata": {
        "id": "Wv4iAMwlZp9R"
      },
      "execution_count": null,
      "outputs": []
    },
    {
      "cell_type": "markdown",
      "source": [
        "6. 사용자로부터 두 점을 입력받아서 터틀 그래픽을 이용하여 두 점을 연결하는 직선을 그린다. 직선의 끝점에 직선의 길이를 계산하여 출력해보자."
      ],
      "metadata": {
        "id": "2LH31PnZdw75"
      }
    },
    {
      "cell_type": "code",
      "source": [
        "import turtle\n",
        "\n",
        "t=turtle.Turtle()\n",
        "t.shape(\"turtle\")\n",
        "x1=int(input(\"x1:\"))  #사용자로부터 x1값 입력받음\n",
        "y1=int(input(\"y1:\"))  #사용자로부터 y1값 입력받음\n",
        "x2=int(input(\"x2:\"))  #사용자로부터 x2값 입력받음\n",
        "y2=int(input(\"y2:\"))  #사용자로부터 y2값 입력받음\n",
        "distance=((x1-x2)**2+(y1-y2)**2)**0.5  #두 점의 거리 계산\n",
        "t.up()  #펜 들음\n",
        "t.goto(x1,y1)  #(x1,y1)좌표로 이동\n",
        "t.down()  #펜 놓음\n",
        "t.goto(x2,y2)  #(x2,y2)좌표로 이동\n",
        "t.write(\"두 점 사이의 거리=\"+str(distance))      #str을 사용하지 않으면 거북이가 더 걸어나가게 된다."
      ],
      "metadata": {
        "id": "1eDLHCd3d7Wk"
      },
      "execution_count": null,
      "outputs": []
    },
    {
      "cell_type": "markdown",
      "source": [
        "7. 파이썬에서 time()을 호출하면 1970년 1월 1일 이후 흘러온 전체 초가 반환된다. 이것을 적절하게 나누거나 나머지를 구해서 현재 시간의 시와 분을 계산할 수 있을까?"
      ],
      "metadata": {
        "id": "-R2xx1yefvNy"
      }
    },
    {
      "cell_type": "code",
      "source": [
        "import time\n",
        "fseconds=time.time()\n",
        "min=int((fseconds//60)%60)\n",
        "hour=int(min//60)\n",
        "\n",
        "print(\"현재 시간(영국 그리니치 시각):\", hour, \"시\", min, \"분\")"
      ],
      "metadata": {
        "colab": {
          "base_uri": "https://localhost:8080/"
        },
        "id": "YDOQFdW-gBjL",
        "outputId": "71945ec6-d54f-4ab5-ea13-9f601d5099ec"
      },
      "execution_count": null,
      "outputs": [
        {
          "output_type": "stream",
          "name": "stdout",
          "text": [
            "현재 시간(영국 그리니치 시각): 0 시 29 분\n"
          ]
        }
      ]
    },
    {
      "cell_type": "markdown",
      "source": [
        "8. 움직이는 물체의 운동에너지를 계산해보자. 물체의 에너지를 계산하는 식은 1/2*무게*속도*2이다."
      ],
      "metadata": {
        "id": "qYEb0Zm1iMjj"
      }
    },
    {
      "cell_type": "code",
      "source": [
        "x=int(input(\"물체의 무게:\"))  #사용자로부터 무게 입력받음\n",
        "y=int(input(\"물체의 속도:\"))  #사용자로부터 속도 입력받음\n",
        "print(\"물체는\", 1/2*x*y**2,\"의 에너지를 가진다.\")  #에너지 계산"
      ],
      "metadata": {
        "colab": {
          "base_uri": "https://localhost:8080/"
        },
        "id": "6xysOACLiWhK",
        "outputId": "75f1ad99-b3d2-4324-cbae-b9ab03d7bcd2"
      },
      "execution_count": null,
      "outputs": [
        {
          "output_type": "stream",
          "name": "stdout",
          "text": [
            "물체의 무게:10\n",
            "물체의 속도:100\n",
            "물체는 50000.0 의 에너지를 가진다.\n"
          ]
        }
      ]
    }
  ]
}