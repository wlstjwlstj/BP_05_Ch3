{
  "nbformat": 4,
  "nbformat_minor": 0,
  "metadata": {
    "colab": {
      "provenance": [],
      "authorship_tag": "ABX9TyNCGerbELc8p41S+j3ykg4M",
      "include_colab_link": true
    },
    "kernelspec": {
      "name": "python3",
      "display_name": "Python 3"
    },
    "language_info": {
      "name": "python"
    }
  },
  "cells": [
    {
      "cell_type": "markdown",
      "metadata": {
        "id": "view-in-github",
        "colab_type": "text"
      },
      "source": [
        "<a href=\"https://colab.research.google.com/github/wlstjwlstj/BP_05_Ch3/blob/main/Untitled3.ipynb\" target=\"_parent\"><img src=\"https://colab.research.google.com/assets/colab-badge.svg\" alt=\"Open In Colab\"/></a>"
      ]
    },
    {
      "cell_type": "markdown",
      "source": [
        "1. 사용자로부터 두 개의 정수를 받아서 정수의 합, 정수의 차, 정수의 곱, 정수의 평균, 큰 수, 작은 수를 계산하여 화면에 출력하는 프로그램을 작성하라. 파이썬이 제공하는 내장 함수 max(x,y), min(x,y)을 사용해보자."
      ],
      "metadata": {
        "id": "smSwzW-bTltY"
      }
    },
    {
      "cell_type": "code",
      "source": [
        "x=int(input(\"x:\"))\n",
        "y=int(input(\"y:\"))\n",
        "print(\"두 수의 합:\", x+y)\n",
        "print(\"두 수의 차:\", x-y)\n",
        "print(\"두 수의 곱:\", x*y)\n",
        "print(\"두 수의 평균:\", (x+y)/2)\n",
        "print(\"큰 수:\", max(x,y))\n",
        "print(\"작은 수:\", min(x,y))"
      ],
      "metadata": {
        "id": "JRUsvyHHUJx4",
        "colab": {
          "base_uri": "https://localhost:8080/"
        },
        "outputId": "e45472b8-f534-43b7-f47e-0e6161d0736a"
      },
      "execution_count": 2,
      "outputs": [
        {
          "output_type": "stream",
          "name": "stdout",
          "text": [
            "x:10\n",
            "y:20\n",
            "두 수의 합: 30\n",
            "두 수의 차: -10\n",
            "두 수의 곱: 200\n",
            "두 수의 평균: 15.0\n",
            "큰 수: 20\n",
            "작은 수: 10\n"
          ]
        }
      ]
    },
    {
      "cell_type": "markdown",
      "source": [
        "2. 원기둥의 부피를 계산하는 프로그램을 작성해보자. 원기둥의 부피는 다음과 같이 계산한다."
      ],
      "metadata": {
        "id": "q7etwJpSVveR"
      }
    },
    {
      "cell_type": "code",
      "source": [
        "r=int(input(\"r:\"))\n",
        "h=int(input(\"h:\"))\n",
        "print(\"원기둥의 부피:\", 3.141592*r**2*h)"
      ],
      "metadata": {
        "colab": {
          "base_uri": "https://localhost:8080/"
        },
        "id": "o6mDi9VZV3Z_",
        "outputId": "19260d6f-365d-4db3-e6e1-4da712acc5a6"
      },
      "execution_count": 3,
      "outputs": [
        {
          "output_type": "stream",
          "name": "stdout",
          "text": [
            "r:10\n",
            "h:100\n",
            "원기둥의 부피: 31415.92\n"
          ]
        }
      ]
    },
    {
      "cell_type": "markdown",
      "source": [
        "3. 사용자로부터 정수를 받아서 정수의 자리수의 합을 계산하는 프로그램을 작성하여 보자. 예를 들어서 사용자가 1234를 입력하였다면 1+2+3+4를 계산하면 된다. 나머지 연산자와 정수 나눗셈 연산자 //를 적극적으로 사용해보자."
      ],
      "metadata": {
        "id": "3K0FPfeAWZ9K"
      }
    },
    {
      "cell_type": "code",
      "source": [
        "a=int(input(\"정수를 입력하시오: \"))\n",
        "n=a//1000\n",
        "m=(a%1000)//100\n",
        "t=((a%1000)%100)//10\n",
        "o=(((a%1000)%100)%10)//1\n",
        "sum=n+m+t+o\n",
        "print(\"자리수의 합:\", sum)"
      ],
      "metadata": {
        "colab": {
          "base_uri": "https://localhost:8080/"
        },
        "id": "YfFXlfGtWsdD",
        "outputId": "1daf3ff4-9c52-4750-e0fa-e10b028c7fe9"
      },
      "execution_count": 4,
      "outputs": [
        {
          "output_type": "stream",
          "name": "stdout",
          "text": [
            "정수를 입력하시오: 1234\n",
            "자리수의 합: 10\n"
          ]
        }
      ]
    },
    {
      "cell_type": "markdown",
      "source": [
        "4. 사용자로부터 두 점의 좌표 (x1,y1)과 (x2,y2)를 입력받아서 두 점 사이의 거리를 계산하는 프로그램을 작성해보자. 스크립트 모드로 작성하라. 거리는 다음 식으로 계산한다."
      ],
      "metadata": {
        "id": "Bhrub0gxXdYR"
      }
    },
    {
      "cell_type": "code",
      "source": [
        "x1=int(input(\"x1:\"))\n",
        "y1=int(input(\"y1:\"))\n",
        "x2=int(input(\"x2:\"))\n",
        "y2=int(input(\"y2:\"))\n",
        "sum_a=(x1-x2)**2\n",
        "sum_b=(y1-y2)**2\n",
        "sum_x=(sum_a + sum_b)**0.5\n",
        "print(\"두 점 사이의 거리+\", sum_x)"
      ],
      "metadata": {
        "colab": {
          "base_uri": "https://localhost:8080/"
        },
        "id": "pYpcQCN0ZRXo",
        "outputId": "b3311f5d-4cb9-4777-f1bc-45e6c4f72a31"
      },
      "execution_count": 5,
      "outputs": [
        {
          "output_type": "stream",
          "name": "stdout",
          "text": [
            "x1:0\n",
            "y1:0\n",
            "x2:100\n",
            "y2:100\n",
            "두 점 사이의 거리+ 141.4213562373095\n"
          ]
        }
      ]
    }
  ]
}