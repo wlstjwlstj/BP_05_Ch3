{
  "nbformat": 4,
  "nbformat_minor": 0,
  "metadata": {
    "colab": {
      "provenance": [],
      "authorship_tag": "ABX9TyN9oUMwffhNoNXY0mSoU68k",
      "include_colab_link": true
    },
    "kernelspec": {
      "name": "python3",
      "display_name": "Python 3"
    },
    "language_info": {
      "name": "python"
    }
  },
  "cells": [
    {
      "cell_type": "markdown",
      "metadata": {
        "id": "view-in-github",
        "colab_type": "text"
      },
      "source": [
        "<a href=\"https://colab.research.google.com/github/wlstjwlstj/BP_05_Ch3/blob/main/Untitled3.ipynb\" target=\"_parent\"><img src=\"https://colab.research.google.com/assets/colab-badge.svg\" alt=\"Open In Colab\"/></a>"
      ]
    },
    {
      "cell_type": "markdown",
      "source": [
        "1. 사용자로부터 두 개의 정수를 받아서 정수의 합, 정수의 차, 정수의 곱, 정수의 평균, 큰 수, 작은 수를 계산하여 화면에 출력하는 프로그램을 작성하라. 파이썬이 제공하는 내장 함수 max(x,y), min(x,y)을 사용해보자."
      ],
      "metadata": {
        "id": "smSwzW-bTltY"
      }
    },
    {
      "cell_type": "code",
      "source": [
        "x=int(input(\"x:\"))\n",
        "y=int(input(\"y:\"))\n",
        "print(\"두 수의 합:\", x+y)\n",
        "print(\"두 수의 차:\", x-y)\n",
        "print(\"두 수의 곱:\", x*y)\n",
        "print(\"두 수의 평균:\", (x+y)/2)\n",
        "print(\"큰 수:\", max(x,y))\n",
        "print(\"작은 수:\", min(x,y))"
      ],
      "metadata": {
        "id": "JRUsvyHHUJx4"
      },
      "execution_count": null,
      "outputs": []
    }
  ]
}